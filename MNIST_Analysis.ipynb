{
 "cells": [
  {
   "cell_type": "markdown",
   "id": "5556f092",
   "metadata": {},
   "source": [
    "# Analysis of MNIST Dataset"
   ]
  },
  {
   "cell_type": "code",
   "execution_count": 1,
   "id": "373d081f",
   "metadata": {},
   "outputs": [
    {
     "name": "stdout",
     "output_type": "stream",
     "text": [
      "WARNING:tensorflow:From C:\\Users\\bwc07\\OneDrive\\Desktop\\MLenv\\my_venv\\lib\\site-packages\\keras\\src\\losses.py:2976: The name tf.losses.sparse_softmax_cross_entropy is deprecated. Please use tf.compat.v1.losses.sparse_softmax_cross_entropy instead.\n",
      "\n"
     ]
    }
   ],
   "source": [
    "import sklearn\n",
    "import tensorflow as tf\n",
    "import matplotlib.pyplot as plt\n",
    "import pandas as pd\n",
    "import numpy as np\n",
    "\n",
    "from sklearn.linear_model import SGDClassifier\n",
    "from sklearn.preprocessing import StandardScaler\n",
    "from sklearn.model_selection import train_test_split\n",
    "\n",
    "def relu(z):\n",
    "    return np.maximum(0, z)"
   ]
  },
  {
   "cell_type": "markdown",
   "id": "26607207",
   "metadata": {},
   "source": [
    "6. The shpae of the input matrix $\\textbf{X}$ is m x 10 where m is the number of instances/rows. The shape of the hidden layer's weight vector $\\textbf{W}_h$ is 10 x 50. The shape of the bias vector $b_h$ is 50 x 1. The shape of the output layer's weight vector $\\textbf{W}_o$ is 50 x 3. The shape of the bias vector $b_o$ is 3 x 1. The equation of $\\textbf{Y}$ is $Y = ReLU( ReLU(XW_h + b_h )W_o + b_o )$.\n",
    "\n",
    "7. 1 neuron is needed in the outpur layer for classifying email into ham or spam. The sigmoid activation function should be used. For MNIST, 10 output neurons are needed for each class (0-9). The softmax activation function should be used for the output layer, because it will give estimated probabilities (0-1) for each output. For predicting housing prices, one output neuron is needed.\n",
    "\n",
    "8. Backpropagation is a way to train artifical neural networks by using the chain rule. The steps are as followed:\n",
    "    <br>$\\quad\\quad$- Gradients of the cost function with repect to the model parameters are computed\n",
    "    <br>$\\quad\\quad$- Reverse-mode autodiff does a forward pass computing the outputs\n",
    "    <br>$\\quad\\quad$- Reverse pass computes all gradients\n",
    "    <br>$\\quad\\quad$- Gradient Descent is performed using the computed gradients and the learning rate\n",
    "    <br>$\\quad\\quad$- This is performed many times until an ideal minimum of the cost funciton is reached\n",
    "\n",
    "9. All the hyperparamters you can tweak are (1) the number of hidden laters, (2) the number of neurons per hidden layer, (3) learning rate, (4) optmizer, (5) batch size, (6) activation funciton for the hidden and output layer, and (7) number of iterations. If the MPL overfits the training data, it can be beneficial to reduce the number of neurons per hidden layer or reduce the number of hidden layers."
   ]
  },
  {
   "cell_type": "code",
   "execution_count": 2,
   "id": "af73f768",
   "metadata": {},
   "outputs": [],
   "source": [
    "# Load the MNIST dataset\n",
    "(X_train_full, y_train_full), (X_test, y_test) = tf.keras.datasets.mnist.load_data()\n",
    "\n",
    "# Split the full training set into training and validation sets\n",
    "X_train, X_valid, y_train, y_valid = train_test_split(\n",
    "    X_train_full, y_train_full, test_size=0.2, random_state=2442)\n",
    "\n",
    "# Normalize the pixel values to be between 0 and 1\n",
    "X_train = X_train / 255.0\n",
    "X_valid = X_valid / 255.0\n",
    "X_test = X_test / 255.0"
   ]
  },
  {
   "cell_type": "code",
   "execution_count": 3,
   "id": "738e604d",
   "metadata": {},
   "outputs": [
    {
     "name": "stdout",
     "output_type": "stream",
     "text": [
      "WARNING:tensorflow:From C:\\Users\\bwc07\\OneDrive\\Desktop\\MLenv\\my_venv\\lib\\site-packages\\keras\\src\\backend.py:873: The name tf.get_default_graph is deprecated. Please use tf.compat.v1.get_default_graph instead.\n",
      "\n",
      "Epoch 1/10\n",
      "WARNING:tensorflow:From C:\\Users\\bwc07\\OneDrive\\Desktop\\MLenv\\my_venv\\lib\\site-packages\\keras\\src\\utils\\tf_utils.py:492: The name tf.ragged.RaggedTensorValue is deprecated. Please use tf.compat.v1.ragged.RaggedTensorValue instead.\n",
      "\n",
      "WARNING:tensorflow:From C:\\Users\\bwc07\\OneDrive\\Desktop\\MLenv\\my_venv\\lib\\site-packages\\keras\\src\\engine\\base_layer_utils.py:384: The name tf.executing_eagerly_outside_functions is deprecated. Please use tf.compat.v1.executing_eagerly_outside_functions instead.\n",
      "\n",
      "1500/1500 [==============================] - 19s 11ms/step - loss: 2.3109 - accuracy: 0.1282 - val_loss: 2.3075 - val_accuracy: 0.1282 - lr: 1.0000e-05\n",
      "Epoch 2/10\n",
      "1500/1500 [==============================] - 15s 10ms/step - loss: 2.2841 - accuracy: 0.1493 - val_loss: 2.2645 - val_accuracy: 0.1619 - lr: 4.6416e-05\n",
      "Epoch 3/10\n",
      "1500/1500 [==============================] - 18s 12ms/step - loss: 2.1695 - accuracy: 0.2698 - val_loss: 2.0806 - val_accuracy: 0.3887 - lr: 2.1544e-04\n",
      "Epoch 4/10\n",
      "1500/1500 [==============================] - 17s 11ms/step - loss: 1.6149 - accuracy: 0.6785 - val_loss: 1.1755 - val_accuracy: 0.7838 - lr: 0.0010\n",
      "Epoch 5/10\n",
      "1500/1500 [==============================] - 18s 12ms/step - loss: 0.6072 - accuracy: 0.8573 - val_loss: 0.4185 - val_accuracy: 0.8862 - lr: 0.0046\n",
      "Epoch 6/10\n",
      "1500/1500 [==============================] - 14s 9ms/step - loss: 0.3158 - accuracy: 0.9104 - val_loss: 0.2554 - val_accuracy: 0.9272 - lr: 0.0215\n",
      "Epoch 7/10\n",
      "1500/1500 [==============================] - 10s 7ms/step - loss: 0.1974 - accuracy: 0.9395 - val_loss: 0.1662 - val_accuracy: 0.9506 - lr: 0.1000\n",
      "Epoch 8/10\n",
      "1500/1500 [==============================] - 15s 10ms/step - loss: 0.2159 - accuracy: 0.9369 - val_loss: 0.1171 - val_accuracy: 0.9653 - lr: 0.4642\n",
      "Epoch 9/10\n",
      "1500/1500 [==============================] - 19s 13ms/step - loss: nan - accuracy: 0.1024 - val_loss: nan - val_accuracy: 0.0976 - lr: 2.1544\n",
      "Epoch 10/10\n",
      "1500/1500 [==============================] - 10s 7ms/step - loss: nan - accuracy: 0.0990 - val_loss: nan - val_accuracy: 0.0976 - lr: 10.0000\n"
     ]
    }
   ],
   "source": [
    "tf.random.set_seed(2442)\n",
    "\n",
    "model = tf.keras.Sequential([\n",
    "    tf.keras.layers.Flatten(input_shape=[28, 28]),\n",
    "    tf.keras.layers.Dense(300, activation=\"relu\"),\n",
    "    tf.keras.layers.Dense(300, activation=\"relu\"),\n",
    "    tf.keras.layers.Dense(10, activation=\"softmax\")\n",
    "])\n",
    "\n",
    "optimizer = tf.keras.optimizers.SGD(learning_rate=1e-5)\n",
    "model.compile(loss=\"sparse_categorical_crossentropy\", optimizer=optimizer,\n",
    "              metrics=[\"accuracy\"])\n",
    "\n",
    "history = model.fit(X_train, y_train, epochs=10,\n",
    "                    validation_data=(X_valid, y_valid), \n",
    "                    callbacks = [tf.keras.callbacks.LearningRateScheduler(lambda epoch: 1e-5 * 10 ** (epoch / 1.5))])"
   ]
  },
  {
   "cell_type": "code",
   "execution_count": 5,
   "id": "34add0f7",
   "metadata": {},
   "outputs": [
    {
     "data": {
      "text/plain": [
       "[<matplotlib.lines.Line2D at 0x20704eb8700>]"
      ]
     },
     "execution_count": 5,
     "metadata": {},
     "output_type": "execute_result"
    },
    {
     "data": {
      "image/png": "[encoded data removed]",
      "text/plain": [
       "<Figure size 640x480 with 1 Axes>"
      ]
     },
     "metadata": {},
     "output_type": "display_data"
    }
   ],
   "source": [
    "plt.plot(np.arange(0, 10), history.history['loss'], label='loss', lw=3, marker='o')"
   ]
  },
  {
   "cell_type": "code",
   "execution_count": 6,
   "id": "974c0902",
   "metadata": {},
   "outputs": [
    {
     "name": "stdout",
     "output_type": "stream",
     "text": [
      "Epoch 1/10\n",
      "1500/1500 [==============================] - 12s 7ms/step - loss: 0.4768 - accuracy: 0.8726 - val_loss: 0.2804 - val_accuracy: 0.9163 - lr: 0.0200\n",
      "Epoch 2/10\n",
      "1500/1500 [==============================] - 15s 10ms/step - loss: 0.2355 - accuracy: 0.9322 - val_loss: 0.2125 - val_accuracy: 0.9381 - lr: 0.0252\n",
      "Epoch 3/10\n",
      "1500/1500 [==============================] - 14s 10ms/step - loss: 0.1745 - accuracy: 0.9492 - val_loss: 0.1620 - val_accuracy: 0.9528 - lr: 0.0317\n",
      "Epoch 4/10\n",
      "1500/1500 [==============================] - 12s 8ms/step - loss: 0.1348 - accuracy: 0.9599 - val_loss: 0.1406 - val_accuracy: 0.9578 - lr: 0.0399\n",
      "Epoch 5/10\n",
      "1500/1500 [==============================] - 14s 10ms/step - loss: 0.1055 - accuracy: 0.9690 - val_loss: 0.1129 - val_accuracy: 0.9675 - lr: 0.0502\n",
      "Epoch 6/10\n",
      "1500/1500 [==============================] - 10s 6ms/step - loss: 0.0849 - accuracy: 0.9749 - val_loss: 0.1074 - val_accuracy: 0.9687 - lr: 0.0632\n",
      "Epoch 7/10\n",
      "1500/1500 [==============================] - 10s 6ms/step - loss: 0.0700 - accuracy: 0.9786 - val_loss: 0.0943 - val_accuracy: 0.9722 - lr: 0.0796\n",
      "Epoch 8/10\n",
      "1500/1500 [==============================] - 14s 10ms/step - loss: 0.0594 - accuracy: 0.9816 - val_loss: 0.0920 - val_accuracy: 0.9725 - lr: 0.1002\n",
      "Epoch 9/10\n",
      "1500/1500 [==============================] - 17s 11ms/step - loss: 0.0555 - accuracy: 0.9829 - val_loss: 0.0953 - val_accuracy: 0.9721 - lr: 0.1262\n",
      "Epoch 10/10\n",
      "1500/1500 [==============================] - 18s 12ms/step - loss: 0.0527 - accuracy: 0.9831 - val_loss: 0.0926 - val_accuracy: 0.9733 - lr: 0.1589\n"
     ]
    }
   ],
   "source": [
    "tf.keras.backend.clear_session()\n",
    "np.random.seed(2422)\n",
    "tf.random.set_seed(2422)\n",
    "\n",
    "model = tf.keras.Sequential([\n",
    "    tf.keras.layers.Flatten(input_shape=[28, 28]),\n",
    "    tf.keras.layers.Dense(300, activation=\"relu\"),\n",
    "    tf.keras.layers.Dense(300, activation=\"relu\"),\n",
    "    tf.keras.layers.Dense(10, activation=\"softmax\")\n",
    "])\n",
    "\n",
    "optimizer = tf.keras.optimizers.SGD(learning_rate=1e-5)\n",
    "model.compile(loss=\"sparse_categorical_crossentropy\", optimizer=optimizer,\n",
    "              metrics=[\"accuracy\"])\n",
    "\n",
    "history1 = model.fit(X_train, y_train, epochs=10,\n",
    "                    validation_data=(X_valid, y_valid), \n",
    "                    callbacks = [tf.keras.callbacks.LearningRateScheduler(lambda epoch: 0.02 * 10 ** (epoch / 10))])"
   ]
  },
  {
   "cell_type": "code",
   "execution_count": 7,
   "id": "746a8609",
   "metadata": {},
   "outputs": [
    {
     "name": "stdout",
     "output_type": "stream",
     "text": [
      "313/313 [==============================] - 2s 4ms/step - loss: 0.0854 - accuracy: 0.9728\n"
     ]
    },
    {
     "data": {
      "text/plain": [
       "[0.08540017902851105, 0.9728000164031982]"
      ]
     },
     "execution_count": 7,
     "metadata": {},
     "output_type": "execute_result"
    }
   ],
   "source": [
    "model.evaluate(X_test, y_test)"
   ]
  },
  {
   "cell_type": "code",
   "execution_count": 8,
   "id": "58b952fb",
   "metadata": {},
   "outputs": [
    {
     "name": "stdout",
     "output_type": "stream",
     "text": [
      "Epoch 1/10\n",
      "1500/1500 [==============================] - 15s 10ms/step - loss: 0.2809 - accuracy: 0.9182 - val_loss: 0.1418 - val_accuracy: 0.9572\n",
      "Epoch 2/10\n",
      "1500/1500 [==============================] - 18s 12ms/step - loss: 0.1151 - accuracy: 0.9660 - val_loss: 0.1293 - val_accuracy: 0.9613\n",
      "Epoch 3/10\n",
      "1500/1500 [==============================] - 17s 11ms/step - loss: 0.0768 - accuracy: 0.9762 - val_loss: 0.0990 - val_accuracy: 0.9689\n",
      "Epoch 4/10\n",
      "1500/1500 [==============================] - 10s 7ms/step - loss: 0.0543 - accuracy: 0.9834 - val_loss: 0.1236 - val_accuracy: 0.9645\n",
      "Epoch 5/10\n",
      "1500/1500 [==============================] - 11s 7ms/step - loss: 0.0414 - accuracy: 0.9875 - val_loss: 0.0825 - val_accuracy: 0.9758\n",
      "Epoch 6/10\n",
      "1500/1500 [==============================] - 17s 11ms/step - loss: 0.0292 - accuracy: 0.9912 - val_loss: 0.0784 - val_accuracy: 0.9763\n",
      "Epoch 7/10\n",
      "1500/1500 [==============================] - 15s 10ms/step - loss: 0.0201 - accuracy: 0.9948 - val_loss: 0.0819 - val_accuracy: 0.9769\n",
      "Epoch 8/10\n",
      "1500/1500 [==============================] - 15s 10ms/step - loss: 0.0155 - accuracy: 0.9957 - val_loss: 0.0867 - val_accuracy: 0.9762\n",
      "Epoch 9/10\n",
      "1500/1500 [==============================] - 17s 11ms/step - loss: 0.0105 - accuracy: 0.9976 - val_loss: 0.0778 - val_accuracy: 0.9782\n",
      "Epoch 10/10\n",
      "1500/1500 [==============================] - 16s 11ms/step - loss: 0.0081 - accuracy: 0.9982 - val_loss: 0.0787 - val_accuracy: 0.9789\n"
     ]
    }
   ],
   "source": [
    "tf.keras.backend.clear_session()\n",
    "np.random.seed(2422)\n",
    "tf.random.set_seed(2422)\n",
    "\n",
    "model = tf.keras.Sequential([\n",
    "    tf.keras.layers.Flatten(input_shape=[28, 28]),\n",
    "    tf.keras.layers.Dense(300, activation=\"relu\"),\n",
    "    tf.keras.layers.Dense(300, activation=\"relu\"),\n",
    "    tf.keras.layers.Dense(10, activation=\"softmax\")\n",
    "])\n",
    "\n",
    "# Define your learning rate\n",
    "learning_rate = 0.1 \n",
    "\n",
    "# Compile the model with the fixed learning rate\n",
    "optimizer = tf.keras.optimizers.SGD(learning_rate=learning_rate)\n",
    "model.compile(loss=\"sparse_categorical_crossentropy\", optimizer=optimizer,\n",
    "              metrics=[\"accuracy\"])\n",
    "\n",
    "# Train the model\n",
    "history2 = model.fit(X_train, y_train, epochs=10,\n",
    "                     validation_data=(X_valid, y_valid))"
   ]
  },
  {
   "cell_type": "code",
   "execution_count": 9,
   "id": "75a75bdf",
   "metadata": {},
   "outputs": [
    {
     "name": "stdout",
     "output_type": "stream",
     "text": [
      "313/313 [==============================] - 3s 7ms/step - loss: 0.0697 - accuracy: 0.9806\n"
     ]
    },
    {
     "data": {
      "text/plain": [
       "[0.06971430778503418, 0.9805999994277954]"
      ]
     },
     "execution_count": 9,
     "metadata": {},
     "output_type": "execute_result"
    }
   ],
   "source": [
    "model.evaluate(X_test, y_test)"
   ]
  }
 ],
 "metadata": {
  "kernelspec": {
   "display_name": "ML-KERNEL",
   "language": "python",
   "name": "ml-kernel"
  },
  "language_info": {
   "codemirror_mode": {
    "name": "ipython",
    "version": 3
   },
   "file_extension": ".py",
   "mimetype": "text/x-python",
   "name": "python",
   "nbconvert_exporter": "python",
   "pygments_lexer": "ipython3",
   "version": "3.10.2"
  }
 },
 "nbformat": 4,
 "nbformat_minor": 5
}
