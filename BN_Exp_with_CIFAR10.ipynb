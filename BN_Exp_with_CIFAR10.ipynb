{
 "cells": [
  {
   "cell_type": "markdown",
   "id": "ab98286e",
   "metadata": {},
   "source": [
    "# Deep Neural Network of the CIFAR10 image dataset"
   ]
  },
  {
   "cell_type": "markdown",
   "id": "5d377892",
   "metadata": {},
   "source": [
    "# Import Libraries"
   ]
  },
  {
   "cell_type": "code",
   "execution_count": 1,
   "id": "d3955ccd",
   "metadata": {},
   "outputs": [
    {
     "name": "stdout",
     "output_type": "stream",
     "text": [
      "WARNING:tensorflow:From C:\\Users\\bwc07\\OneDrive\\Desktop\\MLenv\\my_venv\\lib\\site-packages\\keras\\src\\losses.py:2976: The name tf.losses.sparse_softmax_cross_entropy is deprecated. Please use tf.compat.v1.losses.sparse_softmax_cross_entropy instead.\n",
      "\n"
     ]
    }
   ],
   "source": [
    "import sklearn\n",
    "import tensorflow as tf\n",
    "import matplotlib.pyplot as plt\n",
    "import pandas as pd\n",
    "import numpy as np\n",
    "import matplotlib.pyplot as plt\n",
    "\n",
    "from sklearn.linear_model import SGDClassifier\n",
    "from sklearn.preprocessing import StandardScaler\n",
    "from sklearn.model_selection import train_test_split"
   ]
  },
  {
   "cell_type": "markdown",
   "id": "71271f82",
   "metadata": {},
   "source": [
    "# 8A"
   ]
  },
  {
   "cell_type": "code",
   "execution_count": 2,
   "id": "df188784",
   "metadata": {},
   "outputs": [],
   "source": [
    "# Load CIFAR-10 dataset\n",
    "(X_train_full, y_train_full), (X_test, y_test) = tf.keras.datasets.cifar10.load_data()"
   ]
  },
  {
   "cell_type": "code",
   "execution_count": 3,
   "id": "ea5d747f",
   "metadata": {},
   "outputs": [],
   "source": [
    "# Split the full training set into training and validation sets\n",
    "X_train, X_valid, y_train, y_valid = train_test_split(\n",
    "    X_train_full, y_train_full, test_size=0.2, random_state=2442)"
   ]
  },
  {
   "cell_type": "code",
   "execution_count": 4,
   "id": "7bac2174",
   "metadata": {},
   "outputs": [
    {
     "data": {
      "text/plain": [
       "(40000, 32, 32, 3)"
      ]
     },
     "execution_count": 4,
     "metadata": {},
     "output_type": "execute_result"
    }
   ],
   "source": [
    "X_train.shape"
   ]
  },
  {
   "cell_type": "code",
   "execution_count": 6,
   "id": "9dc5442f",
   "metadata": {},
   "outputs": [],
   "source": [
    "K = tf.keras.backend\n",
    "\n",
    "class ExponentialLearningRate(tf.keras.callbacks.Callback):\n",
    "    def __init__(self, factor):\n",
    "        self.factor = factor\n",
    "        self.rates = []\n",
    "        self.losses = []\n",
    "    def on_batch_end(self, batch, logs):\n",
    "        self.rates.append(K.get_value(self.model.optimizer.learning_rate))\n",
    "        self.losses.append(logs[\"loss\"])\n",
    "        K.set_value(self.model.optimizer.learning_rate, self.model.optimizer.learning_rate * self.factor)"
   ]
  },
  {
   "cell_type": "code",
   "execution_count": 7,
   "id": "02459d98",
   "metadata": {},
   "outputs": [],
   "source": [
    "def make_model(lr):\n",
    "    # Create a Sequential model\n",
    "    model = tf.keras.Sequential()\n",
    "\n",
    "    # Add input layer\n",
    "    model.add(tf.keras.layers.Flatten(input_shape=[32, 32, 3]))\n",
    "\n",
    "    # Add 20 hidden layers\n",
    "    for _ in range(20):\n",
    "        model.add(tf.keras.layers.Dense(100, activation=\"elu\", kernel_initializer=\"he_normal\"))\n",
    "    \n",
    "    # PART B\n",
    "    # Add output layer with 10 output with softmax\n",
    "    model.add(tf.keras.layers.Dense(10, activation=\"softmax\"))\n",
    "    \n",
    "    optimizer = tf.keras.optimizers.Nadam(learning_rate=lr)\n",
    "    model.compile(loss=\"sparse_categorical_crossentropy\",\n",
    "                  optimizer=optimizer,\n",
    "                  metrics=[\"accuracy\"])\n",
    "    return model\n"
   ]
  },
  {
   "cell_type": "markdown",
   "id": "6d3ef4fa",
   "metadata": {},
   "source": [
    "# 8B"
   ]
  },
  {
   "cell_type": "markdown",
   "id": "d549e36d",
   "metadata": {},
   "source": [
    "I created the first model (model1) where I used callbacks to save the learning rates and loss to see what the best learning rate is. I also used early stopping with a patience of 5."
   ]
  },
  {
   "cell_type": "code",
   "execution_count": 11,
   "id": "6419a3c3",
   "metadata": {},
   "outputs": [],
   "source": [
    "# Define early stopping callback\n",
    "early_stopping = tf.keras.callbacks.EarlyStopping(monitor='val_loss', patience=5, verbose=1)\n",
    "\n",
    "# Learning Rate\n",
    "expon_lr = ExponentialLearningRate(factor=1.001)"
   ]
  },
  {
   "cell_type": "code",
   "execution_count": 12,
   "id": "d820d312",
   "metadata": {},
   "outputs": [
    {
     "name": "stdout",
     "output_type": "stream",
     "text": [
      "Epoch 1/25\n",
      "1250/1250 [==============================] - 21s 11ms/step - loss: 8.9881 - accuracy: 0.1369 - val_loss: 2.4111 - val_accuracy: 0.1841\n",
      "Epoch 2/25\n",
      "1250/1250 [==============================] - 13s 10ms/step - loss: 2.2263 - accuracy: 0.2093 - val_loss: 2.1361 - val_accuracy: 0.2182\n",
      "Epoch 3/25\n",
      "1250/1250 [==============================] - 12s 10ms/step - loss: 2.0611 - accuracy: 0.2463 - val_loss: 2.1000 - val_accuracy: 0.2510\n",
      "Epoch 4/25\n",
      "1250/1250 [==============================] - 13s 11ms/step - loss: 2.0156 - accuracy: 0.2531 - val_loss: 2.1403 - val_accuracy: 0.2244\n",
      "Epoch 5/25\n",
      "1250/1250 [==============================] - 13s 10ms/step - loss: 3.3142 - accuracy: 0.1956 - val_loss: 2.3293 - val_accuracy: 0.0995\n",
      "Epoch 6/25\n",
      "1250/1250 [==============================] - 12s 9ms/step - loss: 2.3374 - accuracy: 0.0996 - val_loss: 2.3863 - val_accuracy: 0.1040\n",
      "Epoch 7/25\n",
      "1250/1250 [==============================] - 13s 10ms/step - loss: 2.3994 - accuracy: 0.1016 - val_loss: 2.4555 - val_accuracy: 0.1040\n",
      "Epoch 8/25\n",
      "1250/1250 [==============================] - 13s 10ms/step - loss: 4.6657 - accuracy: 0.1015 - val_loss: 5.7867 - val_accuracy: 0.0961\n",
      "Epoch 8: early stopping\n"
     ]
    },
    {
     "data": {
      "text/plain": [
       "<keras.src.callbacks.History at 0x202091170d0>"
      ]
     },
     "execution_count": 12,
     "metadata": {},
     "output_type": "execute_result"
    }
   ],
   "source": [
    "model1 = make_model(1e-5)\n",
    "model1.fit(X_train, y_train, epochs=25,\n",
    "          validation_data=(X_valid, y_valid),\n",
    "          callbacks = [expon_lr, early_stopping])"
   ]
  },
  {
   "cell_type": "code",
   "execution_count": 19,
   "id": "f04b1a9e",
   "metadata": {},
   "outputs": [
    {
     "data": {
      "text/plain": [
       "Text(0, 0.5, 'Loss')"
      ]
     },
     "execution_count": 19,
     "metadata": {},
     "output_type": "execute_result"
    },
    {
     "data": {
      "image/png": "[encoded data removed]",
      "text/plain": [
       "<Figure size 640x480 with 1 Axes>"
      ]
     },
     "metadata": {},
     "output_type": "display_data"
    }
   ],
   "source": [
    "plt.plot(expon_lr.rates, expon_lr.losses)\n",
    "plt.gca().set_xscale('log')\n",
    "plt.xlabel(\"Learning rate\")\n",
    "plt.ylabel(\"Loss\")"
   ]
  },
  {
   "cell_type": "markdown",
   "id": "5161e675",
   "metadata": {},
   "source": [
    "Based on the figure above, it seems that the loss approaches a minimum around 4e-5 so this is what I chose as the best learning rate."
   ]
  },
  {
   "cell_type": "code",
   "execution_count": 20,
   "id": "886f161d",
   "metadata": {
    "scrolled": true
   },
   "outputs": [
    {
     "name": "stdout",
     "output_type": "stream",
     "text": [
      "Epoch 1/50\n",
      "1250/1250 [==============================] - 19s 10ms/step - loss: 7.6125 - accuracy: 0.1548 - val_loss: 2.2553 - val_accuracy: 0.2005\n",
      "Epoch 2/50\n",
      "1250/1250 [==============================] - 12s 10ms/step - loss: 2.1479 - accuracy: 0.2230 - val_loss: 2.0533 - val_accuracy: 0.2450\n",
      "Epoch 3/50\n",
      "1250/1250 [==============================] - 13s 10ms/step - loss: 2.0120 - accuracy: 0.2617 - val_loss: 1.9612 - val_accuracy: 0.2797\n",
      "Epoch 4/50\n",
      "1250/1250 [==============================] - 12s 10ms/step - loss: 1.9204 - accuracy: 0.2968 - val_loss: 1.8844 - val_accuracy: 0.3148\n",
      "Epoch 5/50\n",
      "1250/1250 [==============================] - 12s 9ms/step - loss: 1.8524 - accuracy: 0.3274 - val_loss: 1.8099 - val_accuracy: 0.3361\n",
      "Epoch 6/50\n",
      "1250/1250 [==============================] - 12s 9ms/step - loss: 1.7984 - accuracy: 0.3469 - val_loss: 1.7913 - val_accuracy: 0.3477\n",
      "Epoch 7/50\n",
      "1250/1250 [==============================] - 12s 10ms/step - loss: 1.7520 - accuracy: 0.3654 - val_loss: 1.7359 - val_accuracy: 0.3700\n",
      "Epoch 8/50\n",
      "1250/1250 [==============================] - 12s 10ms/step - loss: 1.7135 - accuracy: 0.3773 - val_loss: 1.7280 - val_accuracy: 0.3714\n",
      "Epoch 9/50\n",
      "1250/1250 [==============================] - 12s 10ms/step - loss: 1.6773 - accuracy: 0.3932 - val_loss: 1.6701 - val_accuracy: 0.3986\n",
      "Epoch 10/50\n",
      "1250/1250 [==============================] - 12s 9ms/step - loss: 1.6449 - accuracy: 0.4056 - val_loss: 1.6495 - val_accuracy: 0.3983\n",
      "Epoch 11/50\n",
      "1250/1250 [==============================] - 12s 9ms/step - loss: 1.6186 - accuracy: 0.4155 - val_loss: 1.6333 - val_accuracy: 0.4076\n",
      "Epoch 12/50\n",
      "1250/1250 [==============================] - 12s 9ms/step - loss: 1.5916 - accuracy: 0.4243 - val_loss: 1.6793 - val_accuracy: 0.4102\n",
      "Epoch 13/50\n",
      "1250/1250 [==============================] - 12s 9ms/step - loss: 1.5712 - accuracy: 0.4344 - val_loss: 1.6333 - val_accuracy: 0.4169\n",
      "Epoch 14/50\n",
      "1250/1250 [==============================] - 12s 9ms/step - loss: 1.5504 - accuracy: 0.4432 - val_loss: 1.5992 - val_accuracy: 0.4345\n",
      "Epoch 15/50\n",
      "1250/1250 [==============================] - 11s 9ms/step - loss: 1.5332 - accuracy: 0.4490 - val_loss: 1.5873 - val_accuracy: 0.4388\n",
      "Epoch 16/50\n",
      "1250/1250 [==============================] - 12s 9ms/step - loss: 1.5132 - accuracy: 0.4568 - val_loss: 1.5792 - val_accuracy: 0.4347\n",
      "Epoch 17/50\n",
      "1250/1250 [==============================] - 11s 9ms/step - loss: 1.4969 - accuracy: 0.4620 - val_loss: 1.6092 - val_accuracy: 0.4276\n",
      "Epoch 18/50\n",
      "1250/1250 [==============================] - 11s 9ms/step - loss: 1.4813 - accuracy: 0.4674 - val_loss: 1.5554 - val_accuracy: 0.4450\n",
      "Epoch 19/50\n",
      "1250/1250 [==============================] - 11s 9ms/step - loss: 1.4679 - accuracy: 0.4708 - val_loss: 1.5784 - val_accuracy: 0.4419\n",
      "Epoch 20/50\n",
      "1250/1250 [==============================] - 11s 8ms/step - loss: 1.4505 - accuracy: 0.4789 - val_loss: 1.5869 - val_accuracy: 0.4412\n",
      "Epoch 21/50\n",
      "1250/1250 [==============================] - 11s 9ms/step - loss: 1.4380 - accuracy: 0.4843 - val_loss: 1.5459 - val_accuracy: 0.4481\n",
      "Epoch 22/50\n",
      "1250/1250 [==============================] - 11s 9ms/step - loss: 1.4238 - accuracy: 0.4873 - val_loss: 1.5512 - val_accuracy: 0.4507\n",
      "Epoch 23/50\n",
      "1250/1250 [==============================] - 11s 9ms/step - loss: 1.4134 - accuracy: 0.4942 - val_loss: 1.5720 - val_accuracy: 0.4434\n",
      "Epoch 24/50\n",
      "1250/1250 [==============================] - 11s 9ms/step - loss: 1.3995 - accuracy: 0.4972 - val_loss: 1.5890 - val_accuracy: 0.4322\n",
      "Epoch 25/50\n",
      "1250/1250 [==============================] - 11s 9ms/step - loss: 1.3894 - accuracy: 0.5014 - val_loss: 1.5203 - val_accuracy: 0.4593\n",
      "Epoch 26/50\n",
      "1250/1250 [==============================] - 11s 9ms/step - loss: 1.3751 - accuracy: 0.5074 - val_loss: 1.5706 - val_accuracy: 0.4530\n",
      "Epoch 27/50\n",
      "1250/1250 [==============================] - 12s 9ms/step - loss: 1.3644 - accuracy: 0.5088 - val_loss: 1.5536 - val_accuracy: 0.4464\n",
      "Epoch 28/50\n",
      "1250/1250 [==============================] - 11s 9ms/step - loss: 1.3529 - accuracy: 0.5143 - val_loss: 1.5458 - val_accuracy: 0.4552\n",
      "Epoch 29/50\n",
      "1250/1250 [==============================] - 12s 9ms/step - loss: 1.3449 - accuracy: 0.5154 - val_loss: 1.5292 - val_accuracy: 0.4611\n",
      "Epoch 30/50\n",
      "1250/1250 [==============================] - 11s 9ms/step - loss: 1.3283 - accuracy: 0.5243 - val_loss: 1.5496 - val_accuracy: 0.4493\n",
      "Epoch 30: early stopping\n"
     ]
    },
    {
     "data": {
      "text/plain": [
       "<keras.src.callbacks.History at 0x2021b7ca5c0>"
      ]
     },
     "execution_count": 20,
     "metadata": {},
     "output_type": "execute_result"
    }
   ],
   "source": [
    "model2 = make_model(4e-5)\n",
    "\n",
    "model2.fit(X_train, y_train, epochs=50,\n",
    "          validation_data=(X_valid, y_valid),\n",
    "          callbacks=[early_stopping])"
   ]
  },
  {
   "cell_type": "code",
   "execution_count": 26,
   "id": "bc08a65c",
   "metadata": {},
   "outputs": [
    {
     "name": "stdout",
     "output_type": "stream",
     "text": [
      "313/313 [==============================] - 1s 4ms/step - loss: 1.5496 - accuracy: 0.4493\n"
     ]
    },
    {
     "data": {
      "text/plain": [
       "[1.549620270729065, 0.44929999113082886]"
      ]
     },
     "execution_count": 26,
     "metadata": {},
     "output_type": "execute_result"
    }
   ],
   "source": [
    "model2.evaluate(X_valid, y_valid)"
   ]
  },
  {
   "cell_type": "markdown",
   "id": "5fe2a943",
   "metadata": {},
   "source": [
    "# 8C"
   ]
  },
  {
   "cell_type": "code",
   "execution_count": 24,
   "id": "c7a213e6",
   "metadata": {},
   "outputs": [],
   "source": [
    "# Create a Sequential model\n",
    "model3 = tf.keras.Sequential()\n",
    "\n",
    "# Add input layer\n",
    "model3.add(tf.keras.layers.Flatten(input_shape=[32, 32, 3]))\n",
    "\n",
    "# Add 20 hidden layers\n",
    "for _ in range(20):\n",
    "    model3.add(tf.keras.layers.Dense(100, kernel_initializer=\"he_normal\"))\n",
    "    model3.add(tf.keras.layers.BatchNormalization())\n",
    "    model3.add(tf.keras.layers.Activation(\"elu\"))\n",
    "\n",
    "# Add output layer with 10 output with softmax\n",
    "model3.add(tf.keras.layers.Dense(10, activation=\"softmax\"))\n",
    "\n",
    "optimizer = tf.keras.optimizers.Nadam(learning_rate=4e-5)\n",
    "model3.compile(loss=\"sparse_categorical_crossentropy\",\n",
    "              optimizer=optimizer,\n",
    "              metrics=[\"accuracy\"])"
   ]
  },
  {
   "cell_type": "code",
   "execution_count": 25,
   "id": "a05d3daa",
   "metadata": {},
   "outputs": [
    {
     "name": "stdout",
     "output_type": "stream",
     "text": [
      "Epoch 1/50\n",
      "1250/1250 [==============================] - 38s 17ms/step - loss: 2.1296 - accuracy: 0.2490 - val_loss: 1.8784 - val_accuracy: 0.3276\n",
      "Epoch 2/50\n",
      "1250/1250 [==============================] - 21s 17ms/step - loss: 1.8481 - accuracy: 0.3389 - val_loss: 1.8045 - val_accuracy: 0.3585\n",
      "Epoch 3/50\n",
      "1250/1250 [==============================] - 21s 17ms/step - loss: 1.7488 - accuracy: 0.3776 - val_loss: 1.7081 - val_accuracy: 0.3938\n",
      "Epoch 4/50\n",
      "1250/1250 [==============================] - 21s 17ms/step - loss: 1.6848 - accuracy: 0.3997 - val_loss: 1.6688 - val_accuracy: 0.4014\n",
      "Epoch 5/50\n",
      "1250/1250 [==============================] - 22s 18ms/step - loss: 1.6375 - accuracy: 0.4184 - val_loss: 1.6613 - val_accuracy: 0.4093\n",
      "Epoch 6/50\n",
      "1250/1250 [==============================] - 21s 17ms/step - loss: 1.6011 - accuracy: 0.4299 - val_loss: 1.6277 - val_accuracy: 0.4190\n",
      "Epoch 7/50\n",
      "1250/1250 [==============================] - 21s 16ms/step - loss: 1.5645 - accuracy: 0.4440 - val_loss: 1.5594 - val_accuracy: 0.4408\n",
      "Epoch 8/50\n",
      "1250/1250 [==============================] - 21s 17ms/step - loss: 1.5414 - accuracy: 0.4548 - val_loss: 1.6367 - val_accuracy: 0.4285\n",
      "Epoch 9/50\n",
      "1250/1250 [==============================] - 21s 17ms/step - loss: 1.5144 - accuracy: 0.4638 - val_loss: 1.5621 - val_accuracy: 0.4448\n",
      "Epoch 10/50\n",
      "1250/1250 [==============================] - 21s 17ms/step - loss: 1.4923 - accuracy: 0.4693 - val_loss: 1.5620 - val_accuracy: 0.4483\n",
      "Epoch 11/50\n",
      "1250/1250 [==============================] - 22s 17ms/step - loss: 1.4647 - accuracy: 0.4805 - val_loss: 1.5584 - val_accuracy: 0.4550\n",
      "Epoch 12/50\n",
      "1250/1250 [==============================] - 21s 17ms/step - loss: 1.4514 - accuracy: 0.4870 - val_loss: 1.4900 - val_accuracy: 0.4704\n",
      "Epoch 13/50\n",
      "1250/1250 [==============================] - 22s 18ms/step - loss: 1.4355 - accuracy: 0.4912 - val_loss: 1.4952 - val_accuracy: 0.4692\n",
      "Epoch 14/50\n",
      "1250/1250 [==============================] - 21s 17ms/step - loss: 1.4161 - accuracy: 0.4984 - val_loss: 1.5070 - val_accuracy: 0.4637\n",
      "Epoch 15/50\n",
      "1250/1250 [==============================] - 21s 17ms/step - loss: 1.4038 - accuracy: 0.5045 - val_loss: 1.5063 - val_accuracy: 0.4577\n",
      "Epoch 16/50\n",
      "1250/1250 [==============================] - 22s 18ms/step - loss: 1.3840 - accuracy: 0.5093 - val_loss: 1.4818 - val_accuracy: 0.4760\n",
      "Epoch 17/50\n",
      "1250/1250 [==============================] - 22s 18ms/step - loss: 1.3683 - accuracy: 0.5135 - val_loss: 1.4706 - val_accuracy: 0.4782\n",
      "Epoch 18/50\n",
      "1250/1250 [==============================] - 22s 17ms/step - loss: 1.3555 - accuracy: 0.5188 - val_loss: 1.5729 - val_accuracy: 0.4537\n",
      "Epoch 19/50\n",
      "1250/1250 [==============================] - 21s 17ms/step - loss: 1.3414 - accuracy: 0.5258 - val_loss: 1.4503 - val_accuracy: 0.4831\n",
      "Epoch 20/50\n",
      "1250/1250 [==============================] - 22s 17ms/step - loss: 1.3320 - accuracy: 0.5278 - val_loss: 1.5377 - val_accuracy: 0.4595\n",
      "Epoch 21/50\n",
      "1250/1250 [==============================] - 21s 17ms/step - loss: 1.3170 - accuracy: 0.5351 - val_loss: 1.4924 - val_accuracy: 0.4724\n",
      "Epoch 22/50\n",
      "1250/1250 [==============================] - 21s 17ms/step - loss: 1.3095 - accuracy: 0.5395 - val_loss: 1.4552 - val_accuracy: 0.4867\n",
      "Epoch 23/50\n",
      "1250/1250 [==============================] - 22s 17ms/step - loss: 1.2953 - accuracy: 0.5405 - val_loss: 1.5982 - val_accuracy: 0.4566\n",
      "Epoch 24/50\n",
      "1250/1250 [==============================] - 21s 17ms/step - loss: 1.2888 - accuracy: 0.5448 - val_loss: 1.5114 - val_accuracy: 0.4712\n",
      "Epoch 24: early stopping\n"
     ]
    },
    {
     "data": {
      "text/plain": [
       "<keras.src.callbacks.History at 0x20232fa5990>"
      ]
     },
     "execution_count": 25,
     "metadata": {},
     "output_type": "execute_result"
    }
   ],
   "source": [
    "model3.fit(X_train, y_train, epochs=50,\n",
    "          validation_data=(X_valid, y_valid),\n",
    "          callbacks=early_stopping)"
   ]
  },
  {
   "cell_type": "code",
   "execution_count": 27,
   "id": "7e59027f",
   "metadata": {},
   "outputs": [
    {
     "name": "stdout",
     "output_type": "stream",
     "text": [
      "313/313 [==============================] - 2s 5ms/step - loss: 1.5114 - accuracy: 0.4712\n"
     ]
    },
    {
     "data": {
      "text/plain": [
       "[1.5113905668258667, 0.47119998931884766]"
      ]
     },
     "execution_count": 27,
     "metadata": {},
     "output_type": "execute_result"
    }
   ],
   "source": [
    "model3.evaluate(X_valid, y_valid)"
   ]
  },
  {
   "cell_type": "markdown",
   "id": "1512acf3",
   "metadata": {},
   "source": [
    "The model with batch normalization (BN) does converge faster as it only took 24 epochs to train while the model without BN took 30 epochs to train. Also, the model with BN got to the highest accuracy than the model without BN within only 19 epochs compared to the total 30 epochs for the model without BN. \n",
    "The model with BN produced a better model with a validation accuacy of 47% while the model without BN produced 45%. That being said, both models do not predict the data well.\n",
    "Using BN, the time of each epoch was slightly more than without BN due to more comptuations, but the model with BN still converged and trained faster than the model without BN."
   ]
  }
 ],
 "metadata": {
  "kernelspec": {
   "display_name": "ML-KERNEL",
   "language": "python",
   "name": "ml-kernel"
  },
  "language_info": {
   "codemirror_mode": {
    "name": "ipython",
    "version": 3
   },
   "file_extension": ".py",
   "mimetype": "text/x-python",
   "name": "python",
   "nbconvert_exporter": "python",
   "pygments_lexer": "ipython3",
   "version": "3.10.2"
  }
 },
 "nbformat": 4,
 "nbformat_minor": 5
}
